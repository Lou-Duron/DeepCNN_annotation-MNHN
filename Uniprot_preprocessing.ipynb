{
 "cells": [
  {
   "cell_type": "code",
   "execution_count": 1,
   "metadata": {},
   "outputs": [
    {
     "name": "stderr",
     "output_type": "stream",
     "text": [
      "2022-04-19 09:57:53.443993: I tensorflow/stream_executor/platform/default/dso_loader.cc:53] Successfully opened dynamic library libcudart.so.11.0\n"
     ]
    }
   ],
   "source": [
    "import h5py\n",
    "import numpy as np\n",
    "import matplotlib.pyplot as plt\n",
    "from tensorflow import keras \n",
    "from tensorflow.keras.models import Model\n",
    "from ModuleLibrary.metrics import BA, MCC\n",
    "from ModuleLibrary.plots import Features_exploration, Chromosome_prediction\n",
    "from ModuleLibrary.utils import encode_aa, load_data_prot, one_hot_prot, traduction, sliding_window_view\n",
    "import os"
   ]
  },
  {
   "cell_type": "code",
   "execution_count": null,
   "metadata": {},
   "outputs": [],
   "source": [
    "# KEEP\n",
    "bug = 0\n",
    "test = h5py.File('Uniprot/data.hdf5','w')\n",
    "with open('Uniprot/uniprot_sprot.fasta', 'r') as f:\n",
    "    res = None\n",
    "    id = 0\n",
    "    for line in f:\n",
    "        if line.startswith('>'):\n",
    "            if res is not None:\n",
    "                res = ''.join(res)\n",
    "                res = np.array(list(res))\n",
    "                try:\n",
    "                    data = encode_aa(res)\n",
    "                except:\n",
    "                    res = []\n",
    "                    bug += 1\n",
    "                    print(bug, id)\n",
    "                    continue\n",
    "                test.create_dataset(str(id), data=data)\n",
    "                id += 1\n",
    "            res = []\n",
    "        else:\n",
    "            res.append(line.strip())\n",
    "test.close()"
   ]
  },
  {
   "cell_type": "code",
   "execution_count": 2,
   "metadata": {},
   "outputs": [
    {
     "name": "stdout",
     "output_type": "stream",
     "text": []
    }
   ],
   "source": [
    "#KEEP\n",
    "win = 30\n",
    "db = h5py.File('Uniprot/data_sprot.hdf5','r')\n",
    "data = []\n",
    "size = len(db.keys())\n",
    "for i, key in enumerate(db.keys()):\n",
    "    print(f\"In progress : {round(i/size*100,2)}%\", end = \"\\r\")\n",
    "    prot = np.array(db[key])\n",
    "    prot = prot[:len(prot)-len(prot)%win]\n",
    "    prot = one_hot_prot(prot)\n",
    "    prot = prot.reshape((-1,win,21))\n",
    "    data.append(prot)\n",
    "    \n",
    "data = np.concatenate(data)\n",
    "\n",
    "np.save(f'Uniprot/data_sprot_oh_w{win}.npy', data)"
   ]
  },
  {
   "cell_type": "code",
   "execution_count": null,
   "metadata": {},
   "outputs": [],
   "source": [
    "# KEEP\n",
    "files = os.listdir(f'Data/DNA/HS37/hdf5')\n",
    "for i, f in enumerate(files):\n",
    "    print(f'{i+1}/{len(files)}')\n",
    "    h5 = h5py.File(f'Data/DNA/HS37/hdf5/{f}','r')\n",
    "    chr = np.array(h5['data']).astype('int8')import numpy as np\n",
    "\n",
    "lab = np.zeros(100, dtype='int8')\n",
    "print(lab)\n",
    "def fill(x,y):\n",
    "    for i in range(x,y+1):\n",
    "        lab[i] = 1\n",
    "\n",
    "a = np.array([3, 50, 90])\n",
    "b = np.array([9, 55, 99])\n",
    "\n",
    "fill_vec = np.frompyfunc(fill, 2,0)\n",
    "fill_vec(a, b)\n",
    "print(lab)\n",
    "    chr = chr.reshape(chr.shape[0])\n",
    "    prot = traduction(chr)\n",
    "    prot_oh = one_hot_prot(prot)\n",
    "    print(prot_oh.dtype)\n",
    "    np.save(f\"Data/DNA/HS37/prot_OH/{f.replace('hdf5','')}npy\", prot_oh)\n",
    "    "
   ]
  },
  {
   "cell_type": "code",
   "execution_count": null,
   "metadata": {},
   "outputs": [],
   "source": []
  },
  {
   "cell_type": "code",
   "execution_count": 7,
   "metadata": {},
   "outputs": [
    {
     "name": "stdout",
     "output_type": "stream",
     "text": [
      "(100001, 90)\n",
      "(100001, 30)\n",
      "(100001, 30, 21)\n"
     ]
    }
   ],
   "source": [
    "win = 30\n",
    "h5 = h5py.File(f'Data/DNA/HS37/hdf5/chr1.hdf5','r')\n",
    "dna = np.array(h5['data']).astype('int8')\n",
    "dna = dna.reshape(dna.shape[0])\n",
    "dna = dna[:100000]\n",
    "dna = np.append(np.zeros(((win*3)//2),dtype='int8'), dna, axis=0)\n",
    "dna = np.append(dna, np.zeros(((win*3)//2),dtype='int8'), axis=0)\n",
    "data = sliding_window_view(dna, win*3)\n",
    "print(data.shape)\n",
    "data = np.apply_along_axis(traduction, axis=1, arr=data)\n",
    "print(data.shape)\n",
    "data = np.apply_along_axis(one_hot_prot, axis=1, arr=data)\n",
    "print(data.shape)\n",
    "np.save('Uniprot/HS37_chr1_allFrame_OH.npy',data)"
   ]
  }
 ],
 "metadata": {
  "interpreter": {
   "hash": "0bc3efc84826af5be31eeabc0803e1302d14461c5204a0dfd8325469899f9135"
  },
  "kernelspec": {
   "display_name": "Python 3.8.0 64-bit ('tf2.5': conda)",
   "name": "python3"
  },
  "language_info": {
   "codemirror_mode": {
    "name": "ipython",
    "version": 3
   },
   "file_extension": ".py",
   "mimetype": "text/x-python",
   "name": "python",
   "nbconvert_exporter": "python",
   "pygments_lexer": "ipython3",
   "version": "3.8.0"
  },
  "orig_nbformat": 4
 },
 "nbformat": 4,
 "nbformat_minor": 2
}
