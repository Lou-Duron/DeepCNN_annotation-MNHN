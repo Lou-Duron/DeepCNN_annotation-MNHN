{
 "cells": [
  {
   "cell_type": "code",
   "execution_count": 1,
   "source": [
    "from ModuleLibrary.plots import Chromosome_prediction, prediction_density, training_metrics, prediction_quality\n",
    "import os\n",
    "import numpy as np"
   ],
   "outputs": [
    {
     "output_type": "stream",
     "name": "stderr",
     "text": [
      "2022-05-13 09:40:46.650573: I tensorflow/stream_executor/platform/default/dso_loader.cc:53] Successfully opened dynamic library libcudart.so.11.0\n"
     ]
    }
   ],
   "metadata": {}
  },
  {
   "cell_type": "code",
   "execution_count": 4,
   "source": [
    "test = ['full_cov.npy']"
   ],
   "outputs": [],
   "metadata": {}
  },
  {
   "cell_type": "code",
   "execution_count": 6,
   "source": [
    "plt = Chromosome_prediction(files_list = test, \n",
    "                                species = 'HS37', \n",
    "                                chr_nb = '1',\n",
    "                                GC = False,\n",
    "                                window = 10001,\n",
    "                                conv = 10,\n",
    "                                annotation_type = 'GENE',\n",
    "                                mode = 'strand+')\n",
    "\n"
   ],
   "outputs": [],
   "metadata": {}
  },
  {
   "cell_type": "code",
   "execution_count": null,
   "source": [
    "plt.update_plots(plot_start=1200000,plot_range=100000)"
   ],
   "outputs": [],
   "metadata": {}
  }
 ],
 "metadata": {
  "interpreter": {
   "hash": "0bc3efc84826af5be31eeabc0803e1302d14461c5204a0dfd8325469899f9135"
  },
  "kernelspec": {
   "display_name": "Python 3.8.0 64-bit ('tf2.5': conda)",
   "name": "python3"
  },
  "language_info": {
   "codemirror_mode": {
    "name": "ipython",
    "version": 3
   },
   "file_extension": ".py",
   "mimetype": "text/x-python",
   "name": "python",
   "nbconvert_exporter": "python",
   "pygments_lexer": "ipython3",
   "version": "3.8.0"
  },
  "orig_nbformat": 4
 },
 "nbformat": 4,
 "nbformat_minor": 2
}