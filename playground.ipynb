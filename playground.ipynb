{
 "cells": [
  {
   "cell_type": "code",
   "execution_count": 1,
   "metadata": {},
   "outputs": [],
   "source": [
    "import h5py\n",
    "import numpy as np\n",
    "import matplotlib.pyplot as plt\n",
    "import pandas as pd\n",
    "import pprint\n",
    "import pickle\n",
    "import yaml\n",
    "import json"
   ]
  },
  {
   "cell_type": "code",
   "execution_count": 2,
   "metadata": {},
   "outputs": [
    {
     "name": "stdout",
     "output_type": "stream",
     "text": [
      "chr10.npy\n",
      "(135534747, 4) (135534747,)\n",
      "chr11.npy\n",
      "(135006516, 4) (135006516,)\n",
      "chr12.npy\n",
      "(133851895, 4) (133851895,)\n",
      "chr13.npy\n",
      "(115169878, 4) (115169878,)\n",
      "chr14.npy\n",
      "(107349540, 4) (107349540,)\n",
      "chr15.npy\n",
      "(102531392, 4) (102531392,)\n",
      "chr16.npy\n",
      "(90354753, 4) (90354753,)\n",
      "chr17.npy\n",
      "(81195210, 4) (81195210,)\n",
      "chr18.npy\n",
      "(78077248, 4) (78077248,)\n",
      "chr19.npy\n",
      "(59128983, 4) (59128983,)\n",
      "chr2.npy\n",
      "(243199373, 4) (243199373,)\n",
      "chr20.npy\n",
      "(63025520, 4) (63025520,)\n",
      "chr21.npy\n",
      "(48129895, 4) (48129895,)\n",
      "chr22.npy\n",
      "(51304566, 4) (51304566,)\n",
      "chr3.npy\n",
      "(198022430, 4) (198022430,)\n",
      "chr4.npy\n",
      "(191154276, 4) (191154276,)\n",
      "chr5.npy\n",
      "(180915260, 4) (180915260,)\n",
      "chr6.npy\n",
      "(171115067, 4) (171115067,)\n",
      "chr7.npy\n",
      "(159138663, 4) (159138663,)\n",
      "chr8.npy\n",
      "(146364022, 4) (146364022,)\n",
      "chr9.npy\n",
      "(141213431, 4) (141213431,)\n",
      "chrX.npy\n",
      "(155270560, 4) (155270560,)\n",
      "chrY.npy\n",
      "(59373566, 4) (59373566,)\n",
      "(2846430091, 301, 4, 1) int8\n",
      "(2846430091,) int8\n"
     ]
    }
   ],
   "source": [
    "from ModuleLibrary.utils import load_data_HS\n",
    "test = load_data_HS(301,50)"
   ]
  },
  {
   "cell_type": "code",
   "execution_count": 7,
   "metadata": {},
   "outputs": [
    {
     "name": "stdout",
     "output_type": "stream",
     "text": [
      "299\n"
     ]
    }
   ],
   "source": [
    "string = 'my number is 254 or 45'\n",
    "lst = string.split(' ')\n",
    "res = 0\n",
    "for el in lst:\n",
    "    try:\n",
    "        res += int(el)\n",
    "        \n",
    "    except:\n",
    "        continue\n",
    "print(res)"
   ]
  },
  {
   "cell_type": "code",
   "execution_count": 6,
   "metadata": {},
   "outputs": [
    {
     "name": "stdout",
     "output_type": "stream",
     "text": [
      "[[ 1  2  3  4]\n",
      " [ 5  6  7  8]\n",
      " [ 9 10 11 12]]\n",
      "[[ 9 10 11 12]\n",
      " [ 5  6  7  8]\n",
      " [ 1  2  3  4]]\n"
     ]
    }
   ],
   "source": [
    "import numpy as np\n",
    "test = np.array([[1,2,3,4],[5,6,7,8],[9,10,11,12]])\n",
    "print(test)\n",
    "print(test[::-1])"
   ]
  },
  {
   "cell_type": "code",
   "execution_count": 7,
   "metadata": {},
   "outputs": [],
   "source": [
    "from ModuleLibrary.utils import get_complementary_strand_OH\n",
    "test2 = get_complementary_strand_OH(test)"
   ]
  },
  {
   "cell_type": "code",
   "execution_count": 8,
   "metadata": {},
   "outputs": [
    {
     "name": "stdout",
     "output_type": "stream",
     "text": [
      "[[ 9 10 11 12]\n",
      " [ 5  6  7  8]\n",
      " [ 1  2  3  4]]\n"
     ]
    }
   ],
   "source": [
    "print(test2)"
   ]
  },
  {
   "cell_type": "code",
   "execution_count": 4,
   "metadata": {},
   "outputs": [
    {
     "name": "stdout",
     "output_type": "stream",
     "text": [
      "(5928340673, 2000, 4, 1) int8\n",
      "(5928340672,) int8\n",
      "(59282950,) int64\n",
      "3.0117931917951815\n"
     ]
    }
   ],
   "source": [
    "print(data.shape, data.dtype)\n",
    "print(labels.shape, labels.dtype)\n",
    "print(indexes.shape, indexes.dtype)\n",
    "print(ratio)"
   ]
  },
  {
   "cell_type": "code",
   "execution_count": 8,
   "metadata": {},
   "outputs": [],
   "source": [
    "def test(x):\n",
    "    for i in range(0,x,2):\n",
    "        yield i"
   ]
  },
  {
   "cell_type": "code",
   "execution_count": 10,
   "metadata": {},
   "outputs": [
    {
     "name": "stdout",
     "output_type": "stream",
     "text": [
      "[0, 2, 4, 6, 8]\n"
     ]
    }
   ],
   "source": [
    "print(list(test(10)))"
   ]
  },
  {
   "cell_type": "code",
   "execution_count": 11,
   "metadata": {},
   "outputs": [
    {
     "name": "stdout",
     "output_type": "stream",
     "text": [
      "0\n",
      "2\n",
      "4\n",
      "6\n",
      "8\n",
      "10\n",
      "12\n",
      "14\n",
      "16\n",
      "18\n",
      "20\n",
      "22\n",
      "24\n",
      "26\n",
      "28\n",
      "30\n",
      "32\n",
      "34\n",
      "36\n",
      "38\n",
      "40\n",
      "42\n",
      "44\n",
      "46\n",
      "48\n"
     ]
    }
   ],
   "source": [
    "for i in test(50):\n",
    "    print(i)"
   ]
  }
 ],
 "metadata": {
  "interpreter": {
   "hash": "0bc3efc84826af5be31eeabc0803e1302d14461c5204a0dfd8325469899f9135"
  },
  "kernelspec": {
   "display_name": "Python 3.8.0 64-bit ('tf2.5': conda)",
   "name": "python3"
  },
  "language_info": {
   "codemirror_mode": {
    "name": "ipython",
    "version": 3
   },
   "file_extension": ".py",
   "mimetype": "text/x-python",
   "name": "python",
   "nbconvert_exporter": "python",
   "pygments_lexer": "ipython3",
   "version": "3.8.0"
  },
  "orig_nbformat": 4
 },
 "nbformat": 4,
 "nbformat_minor": 2
}
