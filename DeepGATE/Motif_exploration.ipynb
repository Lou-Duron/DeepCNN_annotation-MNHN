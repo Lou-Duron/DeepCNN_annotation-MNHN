{
 "cells": [
  {
   "cell_type": "code",
   "execution_count": 5,
   "source": [
    "from DeepGATE import Explorer\n",
    "import numpy as np"
   ],
   "outputs": [],
   "metadata": {}
  },
  {
   "cell_type": "markdown",
   "source": [
    "## Exemple d'utilisation"
   ],
   "metadata": {}
  },
  {
   "cell_type": "code",
   "execution_count": null,
   "source": [
    "#model_path = 'Results/newHS37_exon_start/best_metrics_model.hdf5'\n",
    "model_path = '../DeepGAP/Results/HS37_coverage_BN_3/best_metrics_model.hdf5'\n",
    "\n",
    "# Chargement du modèle et des poids\n",
    "exemple = Explorer(model_path)\n",
    "\n",
    "# Chargement de l'input (en one_hot)\n",
    "data = np.load(f'../Data/DNA/HS38/one_hot/chr1.npy').astype('int8')\n"
   ],
   "outputs": [],
   "metadata": {}
  }
 ],
 "metadata": {
  "interpreter": {
   "hash": "0bc3efc84826af5be31eeabc0803e1302d14461c5204a0dfd8325469899f9135"
  },
  "kernelspec": {
   "name": "python3",
   "display_name": "Python 3.8.0 64-bit ('tf2.5': conda)"
  },
  "language_info": {
   "codemirror_mode": {
    "name": "ipython",
    "version": 3
   },
   "file_extension": ".py",
   "mimetype": "text/x-python",
   "name": "python",
   "nbconvert_exporter": "python",
   "pygments_lexer": "ipython3",
   "version": "3.8.0"
  },
  "orig_nbformat": 4
 },
 "nbformat": 4,
 "nbformat_minor": 2
}